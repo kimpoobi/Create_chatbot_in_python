{
 "cells": [
  {
   "cell_type": "markdown",
   "metadata": {},
   "source": [
    "# Create a chatbot in python\n",
    "\n",
    "Phase 4: Development Part 2 \n",
    "\n",
    "In this part you will continue building your project. \n",
    "\n",
    "Continue building the chatbot by integrating it into a web app using Flask.\n",
    "\n",
    "Continuation of Phase 3 starts from the topic \"Integrating it into a web app using Flask\" (Phase 4)"
   ]
  },
  {
   "cell_type": "markdown",
   "metadata": {
    "papermill": {
     "duration": 0.005379,
     "end_time": "2020-09-04T08:35:19.759711",
     "exception": false,
     "start_time": "2020-09-04T08:35:19.754332",
     "status": "completed"
    },
    "tags": []
   },
   "source": [
    "## Importing required libraries"
   ]
  },
  {
   "cell_type": "code",
   "execution_count": 1,
   "metadata": {
    "_cell_guid": "b1076dfc-b9ad-4769-8c92-a6c4dae69d19",
    "_uuid": "8f2839f25d086af736a60e9eeb907d3b93b6e0e5",
    "execution": {
     "iopub.execute_input": "2020-09-04T08:35:19.779120Z",
     "iopub.status.busy": "2020-09-04T08:35:19.778393Z",
     "iopub.status.idle": "2020-09-04T08:35:21.678334Z",
     "shell.execute_reply": "2020-09-04T08:35:21.677551Z"
    },
    "papermill": {
     "duration": 1.912884,
     "end_time": "2020-09-04T08:35:21.678459",
     "exception": false,
     "start_time": "2020-09-04T08:35:19.765575",
     "status": "completed"
    },
    "tags": []
   },
   "outputs": [],
   "source": [
    "import numpy as np \n",
    "import string\n",
    "from nltk.corpus import stopwords\n",
    "import pandas as pd \n",
    "from sklearn.feature_extraction.text import CountVectorizer\n",
    "from sklearn.tree import DecisionTreeClassifier\n",
    "from sklearn.feature_extraction.text import TfidfTransformer,TfidfVectorizer\n",
    "from sklearn.pipeline import Pipeline"
   ]
  },
  {
   "cell_type": "markdown",
   "metadata": {},
   "source": [
    "## Loading Dataset"
   ]
  },
  {
   "cell_type": "code",
   "execution_count": 2,
   "metadata": {
    "execution": {
     "iopub.execute_input": "2020-09-04T08:35:21.700624Z",
     "iopub.status.busy": "2020-09-04T08:35:21.699854Z",
     "iopub.status.idle": "2020-09-04T08:35:21.727881Z",
     "shell.execute_reply": "2020-09-04T08:35:21.727194Z"
    },
    "papermill": {
     "duration": 0.042283,
     "end_time": "2020-09-04T08:35:21.728000",
     "exception": false,
     "start_time": "2020-09-04T08:35:21.685717",
     "status": "completed"
    },
    "tags": []
   },
   "outputs": [],
   "source": [
    "df = pd.read_csv('dataset/dialogs.txt',sep='\\t')"
   ]
  },
  {
   "cell_type": "code",
   "execution_count": 3,
   "metadata": {
    "execution": {
     "iopub.execute_input": "2020-09-04T08:35:21.745238Z",
     "iopub.status.busy": "2020-09-04T08:35:21.744419Z",
     "iopub.status.idle": "2020-09-04T08:35:21.747388Z",
     "shell.execute_reply": "2020-09-04T08:35:21.746749Z"
    },
    "papermill": {
     "duration": 0.013483,
     "end_time": "2020-09-04T08:35:21.747500",
     "exception": false,
     "start_time": "2020-09-04T08:35:21.734017",
     "status": "completed"
    },
    "tags": []
   },
   "outputs": [],
   "source": [
    "a = pd.Series(df.columns)"
   ]
  },
  {
   "cell_type": "code",
   "execution_count": 4,
   "metadata": {
    "execution": {
     "iopub.execute_input": "2020-09-04T08:35:21.774645Z",
     "iopub.status.busy": "2020-09-04T08:35:21.767915Z",
     "iopub.status.idle": "2020-09-04T08:35:21.783360Z",
     "shell.execute_reply": "2020-09-04T08:35:21.782838Z"
    },
    "papermill": {
     "duration": 0.029898,
     "end_time": "2020-09-04T08:35:21.783469",
     "exception": false,
     "start_time": "2020-09-04T08:35:21.753571",
     "status": "completed"
    },
    "tags": []
   },
   "outputs": [
    {
     "data": {
      "text/html": [
       "<div>\n",
       "<style scoped>\n",
       "    .dataframe tbody tr th:only-of-type {\n",
       "        vertical-align: middle;\n",
       "    }\n",
       "\n",
       "    .dataframe tbody tr th {\n",
       "        vertical-align: top;\n",
       "    }\n",
       "\n",
       "    .dataframe thead th {\n",
       "        text-align: right;\n",
       "    }\n",
       "</style>\n",
       "<table border=\"1\" class=\"dataframe\">\n",
       "  <thead>\n",
       "    <tr style=\"text-align: right;\">\n",
       "      <th></th>\n",
       "      <th>hi, how are you doing?</th>\n",
       "      <th>i'm fine. how about yourself?</th>\n",
       "    </tr>\n",
       "  </thead>\n",
       "  <tbody>\n",
       "    <tr>\n",
       "      <th>0</th>\n",
       "      <td>i'm fine. how about yourself?</td>\n",
       "      <td>i'm pretty good. thanks for asking.</td>\n",
       "    </tr>\n",
       "    <tr>\n",
       "      <th>1</th>\n",
       "      <td>i'm pretty good. thanks for asking.</td>\n",
       "      <td>no problem. so how have you been?</td>\n",
       "    </tr>\n",
       "    <tr>\n",
       "      <th>2</th>\n",
       "      <td>no problem. so how have you been?</td>\n",
       "      <td>i've been great. what about you?</td>\n",
       "    </tr>\n",
       "    <tr>\n",
       "      <th>3</th>\n",
       "      <td>i've been great. what about you?</td>\n",
       "      <td>i've been good. i'm in school right now.</td>\n",
       "    </tr>\n",
       "    <tr>\n",
       "      <th>4</th>\n",
       "      <td>i've been good. i'm in school right now.</td>\n",
       "      <td>what school do you go to?</td>\n",
       "    </tr>\n",
       "    <tr>\n",
       "      <th>...</th>\n",
       "      <td>...</td>\n",
       "      <td>...</td>\n",
       "    </tr>\n",
       "    <tr>\n",
       "      <th>3719</th>\n",
       "      <td>that's a good question. maybe it's not old age.</td>\n",
       "      <td>are you right-handed?</td>\n",
       "    </tr>\n",
       "    <tr>\n",
       "      <th>3720</th>\n",
       "      <td>are you right-handed?</td>\n",
       "      <td>yes. all my life.</td>\n",
       "    </tr>\n",
       "    <tr>\n",
       "      <th>3721</th>\n",
       "      <td>yes. all my life.</td>\n",
       "      <td>you're wearing out your right hand. stop using...</td>\n",
       "    </tr>\n",
       "    <tr>\n",
       "      <th>3722</th>\n",
       "      <td>you're wearing out your right hand. stop using...</td>\n",
       "      <td>but i do all my writing with my right hand.</td>\n",
       "    </tr>\n",
       "    <tr>\n",
       "      <th>3723</th>\n",
       "      <td>but i do all my writing with my right hand.</td>\n",
       "      <td>start typing instead. that way your left hand ...</td>\n",
       "    </tr>\n",
       "  </tbody>\n",
       "</table>\n",
       "<p>3724 rows × 2 columns</p>\n",
       "</div>"
      ],
      "text/plain": [
       "                                 hi, how are you doing?  \\\n",
       "0                         i'm fine. how about yourself?   \n",
       "1                   i'm pretty good. thanks for asking.   \n",
       "2                     no problem. so how have you been?   \n",
       "3                      i've been great. what about you?   \n",
       "4              i've been good. i'm in school right now.   \n",
       "...                                                 ...   \n",
       "3719    that's a good question. maybe it's not old age.   \n",
       "3720                              are you right-handed?   \n",
       "3721                                  yes. all my life.   \n",
       "3722  you're wearing out your right hand. stop using...   \n",
       "3723        but i do all my writing with my right hand.   \n",
       "\n",
       "                          i'm fine. how about yourself?  \n",
       "0                   i'm pretty good. thanks for asking.  \n",
       "1                     no problem. so how have you been?  \n",
       "2                      i've been great. what about you?  \n",
       "3              i've been good. i'm in school right now.  \n",
       "4                             what school do you go to?  \n",
       "...                                                 ...  \n",
       "3719                              are you right-handed?  \n",
       "3720                                  yes. all my life.  \n",
       "3721  you're wearing out your right hand. stop using...  \n",
       "3722        but i do all my writing with my right hand.  \n",
       "3723  start typing instead. that way your left hand ...  \n",
       "\n",
       "[3724 rows x 2 columns]"
      ]
     },
     "execution_count": 4,
     "metadata": {},
     "output_type": "execute_result"
    }
   ],
   "source": [
    "df"
   ]
  },
  {
   "cell_type": "markdown",
   "metadata": {},
   "source": [
    "## Pre Processing the dataset"
   ]
  },
  {
   "cell_type": "code",
   "execution_count": 5,
   "metadata": {
    "execution": {
     "iopub.execute_input": "2020-09-04T08:35:21.806941Z",
     "iopub.status.busy": "2020-09-04T08:35:21.806218Z",
     "iopub.status.idle": "2020-09-04T08:35:21.809623Z",
     "shell.execute_reply": "2020-09-04T08:35:21.809062Z"
    },
    "papermill": {
     "duration": 0.020224,
     "end_time": "2020-09-04T08:35:21.809785",
     "exception": false,
     "start_time": "2020-09-04T08:35:21.789561",
     "status": "completed"
    },
    "tags": []
   },
   "outputs": [],
   "source": [
    "a = a.rename({0: df.columns[0],1: df.columns[1]})"
   ]
  },
  {
   "cell_type": "code",
   "execution_count": 6,
   "metadata": {
    "execution": {
     "iopub.execute_input": "2020-09-04T08:35:21.839450Z",
     "iopub.status.busy": "2020-09-04T08:35:21.838813Z",
     "iopub.status.idle": "2020-09-04T08:35:21.842113Z",
     "shell.execute_reply": "2020-09-04T08:35:21.841521Z"
    },
    "papermill": {
     "duration": 0.01386,
     "end_time": "2020-09-04T08:35:21.842229",
     "exception": false,
     "start_time": "2020-09-04T08:35:21.828369",
     "status": "completed"
    },
    "tags": []
   },
   "outputs": [],
   "source": [
    "b = {'Questions':'Hi','Answers':'hello'}"
   ]
  },
  {
   "cell_type": "code",
   "execution_count": 7,
   "metadata": {
    "execution": {
     "iopub.execute_input": "2020-09-04T08:35:21.859699Z",
     "iopub.status.busy": "2020-09-04T08:35:21.859051Z",
     "iopub.status.idle": "2020-09-04T08:35:21.861760Z",
     "shell.execute_reply": "2020-09-04T08:35:21.862214Z"
    },
    "papermill": {
     "duration": 0.013897,
     "end_time": "2020-09-04T08:35:21.862400",
     "exception": false,
     "start_time": "2020-09-04T08:35:21.848503",
     "status": "completed"
    },
    "tags": []
   },
   "outputs": [],
   "source": [
    "c = {'Questions':'Hello','Answers':'hi'}"
   ]
  },
  {
   "cell_type": "code",
   "execution_count": 8,
   "metadata": {
    "execution": {
     "iopub.execute_input": "2020-09-04T08:35:21.880180Z",
     "iopub.status.busy": "2020-09-04T08:35:21.879465Z",
     "iopub.status.idle": "2020-09-04T08:35:21.882026Z",
     "shell.execute_reply": "2020-09-04T08:35:21.882458Z"
    },
    "papermill": {
     "duration": 0.013758,
     "end_time": "2020-09-04T08:35:21.882604",
     "exception": false,
     "start_time": "2020-09-04T08:35:21.868846",
     "status": "completed"
    },
    "tags": []
   },
   "outputs": [],
   "source": [
    "d= {'Questions':'how are you','Answers':\"i'm fine. how about yourself?\"}"
   ]
  },
  {
   "cell_type": "code",
   "execution_count": 9,
   "metadata": {
    "execution": {
     "iopub.execute_input": "2020-09-04T08:35:21.900564Z",
     "iopub.status.busy": "2020-09-04T08:35:21.899788Z",
     "iopub.status.idle": "2020-09-04T08:35:21.902758Z",
     "shell.execute_reply": "2020-09-04T08:35:21.902150Z"
    },
    "papermill": {
     "duration": 0.013841,
     "end_time": "2020-09-04T08:35:21.902888",
     "exception": false,
     "start_time": "2020-09-04T08:35:21.889047",
     "status": "completed"
    },
    "tags": []
   },
   "outputs": [],
   "source": [
    "e= {'Questions':'how are you doing','Answers':\"i'm fine. how about yourself?\"}"
   ]
  },
  {
   "cell_type": "code",
   "execution_count": 10,
   "metadata": {
    "execution": {
     "iopub.execute_input": "2020-09-04T08:35:21.924683Z",
     "iopub.status.busy": "2020-09-04T08:35:21.923932Z",
     "iopub.status.idle": "2020-09-04T08:35:21.927198Z",
     "shell.execute_reply": "2020-09-04T08:35:21.926609Z"
    },
    "papermill": {
     "duration": 0.017907,
     "end_time": "2020-09-04T08:35:21.927315",
     "exception": false,
     "start_time": "2020-09-04T08:35:21.909408",
     "status": "completed"
    },
    "tags": []
   },
   "outputs": [
    {
     "name": "stderr",
     "output_type": "stream",
     "text": [
      "/tmp/ipykernel_21803/3772295606.py:1: FutureWarning: The frame.append method is deprecated and will be removed from pandas in a future version. Use pandas.concat instead.\n",
      "  df = df.append(a,ignore_index=True)\n"
     ]
    }
   ],
   "source": [
    "df = df.append(a,ignore_index=True)"
   ]
  },
  {
   "cell_type": "code",
   "execution_count": 11,
   "metadata": {
    "execution": {
     "iopub.execute_input": "2020-09-04T08:35:21.946055Z",
     "iopub.status.busy": "2020-09-04T08:35:21.945133Z",
     "iopub.status.idle": "2020-09-04T08:35:21.948690Z",
     "shell.execute_reply": "2020-09-04T08:35:21.948059Z"
    },
    "papermill": {
     "duration": 0.015124,
     "end_time": "2020-09-04T08:35:21.948804",
     "exception": false,
     "start_time": "2020-09-04T08:35:21.933680",
     "status": "completed"
    },
    "tags": []
   },
   "outputs": [],
   "source": [
    "df.columns=['Questions','Answers']"
   ]
  },
  {
   "cell_type": "code",
   "execution_count": 12,
   "metadata": {
    "execution": {
     "iopub.execute_input": "2020-09-04T08:35:21.967269Z",
     "iopub.status.busy": "2020-09-04T08:35:21.966555Z",
     "iopub.status.idle": "2020-09-04T08:35:21.974817Z",
     "shell.execute_reply": "2020-09-04T08:35:21.974152Z"
    },
    "papermill": {
     "duration": 0.01971,
     "end_time": "2020-09-04T08:35:21.974979",
     "exception": false,
     "start_time": "2020-09-04T08:35:21.955269",
     "status": "completed"
    },
    "tags": []
   },
   "outputs": [
    {
     "name": "stderr",
     "output_type": "stream",
     "text": [
      "/tmp/ipykernel_21803/10559575.py:1: FutureWarning: The frame.append method is deprecated and will be removed from pandas in a future version. Use pandas.concat instead.\n",
      "  df = df.append([b,c,d,e],ignore_index=True)\n"
     ]
    }
   ],
   "source": [
    "df = df.append([b,c,d,e],ignore_index=True)"
   ]
  },
  {
   "cell_type": "code",
   "execution_count": 13,
   "metadata": {
    "execution": {
     "iopub.execute_input": "2020-09-04T08:35:21.999998Z",
     "iopub.status.busy": "2020-09-04T08:35:21.998996Z",
     "iopub.status.idle": "2020-09-04T08:35:22.003769Z",
     "shell.execute_reply": "2020-09-04T08:35:22.003185Z"
    },
    "papermill": {
     "duration": 0.022429,
     "end_time": "2020-09-04T08:35:22.003905",
     "exception": false,
     "start_time": "2020-09-04T08:35:21.981476",
     "status": "completed"
    },
    "tags": []
   },
   "outputs": [
    {
     "data": {
      "text/html": [
       "<div>\n",
       "<style scoped>\n",
       "    .dataframe tbody tr th:only-of-type {\n",
       "        vertical-align: middle;\n",
       "    }\n",
       "\n",
       "    .dataframe tbody tr th {\n",
       "        vertical-align: top;\n",
       "    }\n",
       "\n",
       "    .dataframe thead th {\n",
       "        text-align: right;\n",
       "    }\n",
       "</style>\n",
       "<table border=\"1\" class=\"dataframe\">\n",
       "  <thead>\n",
       "    <tr style=\"text-align: right;\">\n",
       "      <th></th>\n",
       "      <th>Questions</th>\n",
       "      <th>Answers</th>\n",
       "    </tr>\n",
       "  </thead>\n",
       "  <tbody>\n",
       "    <tr>\n",
       "      <th>0</th>\n",
       "      <td>i'm fine. how about yourself?</td>\n",
       "      <td>i'm pretty good. thanks for asking.</td>\n",
       "    </tr>\n",
       "    <tr>\n",
       "      <th>1</th>\n",
       "      <td>i'm pretty good. thanks for asking.</td>\n",
       "      <td>no problem. so how have you been?</td>\n",
       "    </tr>\n",
       "    <tr>\n",
       "      <th>2</th>\n",
       "      <td>no problem. so how have you been?</td>\n",
       "      <td>i've been great. what about you?</td>\n",
       "    </tr>\n",
       "    <tr>\n",
       "      <th>3</th>\n",
       "      <td>i've been great. what about you?</td>\n",
       "      <td>i've been good. i'm in school right now.</td>\n",
       "    </tr>\n",
       "    <tr>\n",
       "      <th>4</th>\n",
       "      <td>i've been good. i'm in school right now.</td>\n",
       "      <td>what school do you go to?</td>\n",
       "    </tr>\n",
       "    <tr>\n",
       "      <th>...</th>\n",
       "      <td>...</td>\n",
       "      <td>...</td>\n",
       "    </tr>\n",
       "    <tr>\n",
       "      <th>3724</th>\n",
       "      <td>hi, how are you doing?</td>\n",
       "      <td>i'm fine. how about yourself?</td>\n",
       "    </tr>\n",
       "    <tr>\n",
       "      <th>3725</th>\n",
       "      <td>Hi</td>\n",
       "      <td>hello</td>\n",
       "    </tr>\n",
       "    <tr>\n",
       "      <th>3726</th>\n",
       "      <td>Hello</td>\n",
       "      <td>hi</td>\n",
       "    </tr>\n",
       "    <tr>\n",
       "      <th>3727</th>\n",
       "      <td>how are you</td>\n",
       "      <td>i'm fine. how about yourself?</td>\n",
       "    </tr>\n",
       "    <tr>\n",
       "      <th>3728</th>\n",
       "      <td>how are you doing</td>\n",
       "      <td>i'm fine. how about yourself?</td>\n",
       "    </tr>\n",
       "  </tbody>\n",
       "</table>\n",
       "<p>3729 rows × 2 columns</p>\n",
       "</div>"
      ],
      "text/plain": [
       "                                     Questions  \\\n",
       "0                i'm fine. how about yourself?   \n",
       "1          i'm pretty good. thanks for asking.   \n",
       "2            no problem. so how have you been?   \n",
       "3             i've been great. what about you?   \n",
       "4     i've been good. i'm in school right now.   \n",
       "...                                        ...   \n",
       "3724                    hi, how are you doing?   \n",
       "3725                                        Hi   \n",
       "3726                                     Hello   \n",
       "3727                               how are you   \n",
       "3728                         how are you doing   \n",
       "\n",
       "                                       Answers  \n",
       "0          i'm pretty good. thanks for asking.  \n",
       "1            no problem. so how have you been?  \n",
       "2             i've been great. what about you?  \n",
       "3     i've been good. i'm in school right now.  \n",
       "4                    what school do you go to?  \n",
       "...                                        ...  \n",
       "3724             i'm fine. how about yourself?  \n",
       "3725                                     hello  \n",
       "3726                                        hi  \n",
       "3727             i'm fine. how about yourself?  \n",
       "3728             i'm fine. how about yourself?  \n",
       "\n",
       "[3729 rows x 2 columns]"
      ]
     },
     "execution_count": 13,
     "metadata": {},
     "output_type": "execute_result"
    }
   ],
   "source": [
    "df"
   ]
  },
  {
   "cell_type": "code",
   "execution_count": 14,
   "metadata": {
    "execution": {
     "iopub.execute_input": "2020-09-04T08:35:22.027000Z",
     "iopub.status.busy": "2020-09-04T08:35:22.026051Z",
     "iopub.status.idle": "2020-09-04T08:35:22.029065Z",
     "shell.execute_reply": "2020-09-04T08:35:22.028435Z"
    },
    "papermill": {
     "duration": 0.018396,
     "end_time": "2020-09-04T08:35:22.029178",
     "exception": false,
     "start_time": "2020-09-04T08:35:22.010782",
     "status": "completed"
    },
    "tags": []
   },
   "outputs": [
    {
     "name": "stderr",
     "output_type": "stream",
     "text": [
      "/tmp/ipykernel_21803/921143614.py:1: FutureWarning: The frame.append method is deprecated and will be removed from pandas in a future version. Use pandas.concat instead.\n",
      "  df = df.append(c,ignore_index=True)\n"
     ]
    }
   ],
   "source": [
    "df = df.append(c,ignore_index=True)"
   ]
  },
  {
   "cell_type": "code",
   "execution_count": 15,
   "metadata": {
    "execution": {
     "iopub.execute_input": "2020-09-04T08:35:22.051561Z",
     "iopub.status.busy": "2020-09-04T08:35:22.050660Z",
     "iopub.status.idle": "2020-09-04T08:35:22.054073Z",
     "shell.execute_reply": "2020-09-04T08:35:22.053502Z"
    },
    "papermill": {
     "duration": 0.018083,
     "end_time": "2020-09-04T08:35:22.054188",
     "exception": false,
     "start_time": "2020-09-04T08:35:22.036105",
     "status": "completed"
    },
    "tags": []
   },
   "outputs": [
    {
     "name": "stderr",
     "output_type": "stream",
     "text": [
      "/tmp/ipykernel_21803/1512068047.py:1: FutureWarning: The frame.append method is deprecated and will be removed from pandas in a future version. Use pandas.concat instead.\n",
      "  df = df.append(d,ignore_index=True)\n"
     ]
    }
   ],
   "source": [
    "df = df.append(d,ignore_index=True)"
   ]
  },
  {
   "cell_type": "code",
   "execution_count": 16,
   "metadata": {
    "execution": {
     "iopub.execute_input": "2020-09-04T08:35:22.076130Z",
     "iopub.status.busy": "2020-09-04T08:35:22.075276Z",
     "iopub.status.idle": "2020-09-04T08:35:22.079673Z",
     "shell.execute_reply": "2020-09-04T08:35:22.079010Z"
    },
    "papermill": {
     "duration": 0.018821,
     "end_time": "2020-09-04T08:35:22.079795",
     "exception": false,
     "start_time": "2020-09-04T08:35:22.060974",
     "status": "completed"
    },
    "tags": []
   },
   "outputs": [
    {
     "name": "stderr",
     "output_type": "stream",
     "text": [
      "/tmp/ipykernel_21803/1512068047.py:1: FutureWarning: The frame.append method is deprecated and will be removed from pandas in a future version. Use pandas.concat instead.\n",
      "  df = df.append(d,ignore_index=True)\n"
     ]
    }
   ],
   "source": [
    "df = df.append(d,ignore_index=True)"
   ]
  },
  {
   "cell_type": "code",
   "execution_count": 17,
   "metadata": {
    "execution": {
     "iopub.execute_input": "2020-09-04T08:35:22.105911Z",
     "iopub.status.busy": "2020-09-04T08:35:22.099026Z",
     "iopub.status.idle": "2020-09-04T08:35:22.110684Z",
     "shell.execute_reply": "2020-09-04T08:35:22.110076Z"
    },
    "papermill": {
     "duration": 0.023539,
     "end_time": "2020-09-04T08:35:22.110793",
     "exception": false,
     "start_time": "2020-09-04T08:35:22.087254",
     "status": "completed"
    },
    "tags": []
   },
   "outputs": [
    {
     "data": {
      "text/html": [
       "<div>\n",
       "<style scoped>\n",
       "    .dataframe tbody tr th:only-of-type {\n",
       "        vertical-align: middle;\n",
       "    }\n",
       "\n",
       "    .dataframe tbody tr th {\n",
       "        vertical-align: top;\n",
       "    }\n",
       "\n",
       "    .dataframe thead th {\n",
       "        text-align: right;\n",
       "    }\n",
       "</style>\n",
       "<table border=\"1\" class=\"dataframe\">\n",
       "  <thead>\n",
       "    <tr style=\"text-align: right;\">\n",
       "      <th></th>\n",
       "      <th>Questions</th>\n",
       "      <th>Answers</th>\n",
       "    </tr>\n",
       "  </thead>\n",
       "  <tbody>\n",
       "    <tr>\n",
       "      <th>0</th>\n",
       "      <td>i'm fine. how about yourself?</td>\n",
       "      <td>i'm pretty good. thanks for asking.</td>\n",
       "    </tr>\n",
       "    <tr>\n",
       "      <th>1</th>\n",
       "      <td>i'm pretty good. thanks for asking.</td>\n",
       "      <td>no problem. so how have you been?</td>\n",
       "    </tr>\n",
       "    <tr>\n",
       "      <th>2</th>\n",
       "      <td>no problem. so how have you been?</td>\n",
       "      <td>i've been great. what about you?</td>\n",
       "    </tr>\n",
       "    <tr>\n",
       "      <th>3</th>\n",
       "      <td>i've been great. what about you?</td>\n",
       "      <td>i've been good. i'm in school right now.</td>\n",
       "    </tr>\n",
       "    <tr>\n",
       "      <th>4</th>\n",
       "      <td>i've been good. i'm in school right now.</td>\n",
       "      <td>what school do you go to?</td>\n",
       "    </tr>\n",
       "    <tr>\n",
       "      <th>...</th>\n",
       "      <td>...</td>\n",
       "      <td>...</td>\n",
       "    </tr>\n",
       "    <tr>\n",
       "      <th>3727</th>\n",
       "      <td>how are you</td>\n",
       "      <td>i'm fine. how about yourself?</td>\n",
       "    </tr>\n",
       "    <tr>\n",
       "      <th>3728</th>\n",
       "      <td>how are you doing</td>\n",
       "      <td>i'm fine. how about yourself?</td>\n",
       "    </tr>\n",
       "    <tr>\n",
       "      <th>3729</th>\n",
       "      <td>Hello</td>\n",
       "      <td>hi</td>\n",
       "    </tr>\n",
       "    <tr>\n",
       "      <th>3730</th>\n",
       "      <td>how are you</td>\n",
       "      <td>i'm fine. how about yourself?</td>\n",
       "    </tr>\n",
       "    <tr>\n",
       "      <th>3731</th>\n",
       "      <td>how are you</td>\n",
       "      <td>i'm fine. how about yourself?</td>\n",
       "    </tr>\n",
       "  </tbody>\n",
       "</table>\n",
       "<p>3732 rows × 2 columns</p>\n",
       "</div>"
      ],
      "text/plain": [
       "                                     Questions  \\\n",
       "0                i'm fine. how about yourself?   \n",
       "1          i'm pretty good. thanks for asking.   \n",
       "2            no problem. so how have you been?   \n",
       "3             i've been great. what about you?   \n",
       "4     i've been good. i'm in school right now.   \n",
       "...                                        ...   \n",
       "3727                               how are you   \n",
       "3728                         how are you doing   \n",
       "3729                                     Hello   \n",
       "3730                               how are you   \n",
       "3731                               how are you   \n",
       "\n",
       "                                       Answers  \n",
       "0          i'm pretty good. thanks for asking.  \n",
       "1            no problem. so how have you been?  \n",
       "2             i've been great. what about you?  \n",
       "3     i've been good. i'm in school right now.  \n",
       "4                    what school do you go to?  \n",
       "...                                        ...  \n",
       "3727             i'm fine. how about yourself?  \n",
       "3728             i'm fine. how about yourself?  \n",
       "3729                                        hi  \n",
       "3730             i'm fine. how about yourself?  \n",
       "3731             i'm fine. how about yourself?  \n",
       "\n",
       "[3732 rows x 2 columns]"
      ]
     },
     "execution_count": 17,
     "metadata": {},
     "output_type": "execute_result"
    }
   ],
   "source": [
    "df"
   ]
  },
  {
   "cell_type": "code",
   "execution_count": 18,
   "metadata": {
    "execution": {
     "iopub.execute_input": "2020-09-04T08:35:22.131780Z",
     "iopub.status.busy": "2020-09-04T08:35:22.130914Z",
     "iopub.status.idle": "2020-09-04T08:35:22.133893Z",
     "shell.execute_reply": "2020-09-04T08:35:22.133359Z"
    },
    "papermill": {
     "duration": 0.015965,
     "end_time": "2020-09-04T08:35:22.134008",
     "exception": false,
     "start_time": "2020-09-04T08:35:22.118043",
     "status": "completed"
    },
    "tags": []
   },
   "outputs": [],
   "source": [
    "def cleaner(x):\n",
    "    return [a for a in (''.join([a for a in x if a not in string.punctuation])).lower().split()]"
   ]
  },
  {
   "cell_type": "code",
   "execution_count": 19,
   "metadata": {},
   "outputs": [
    {
     "data": {
      "text/html": [
       "<div>\n",
       "<style scoped>\n",
       "    .dataframe tbody tr th:only-of-type {\n",
       "        vertical-align: middle;\n",
       "    }\n",
       "\n",
       "    .dataframe tbody tr th {\n",
       "        vertical-align: top;\n",
       "    }\n",
       "\n",
       "    .dataframe thead th {\n",
       "        text-align: right;\n",
       "    }\n",
       "</style>\n",
       "<table border=\"1\" class=\"dataframe\">\n",
       "  <thead>\n",
       "    <tr style=\"text-align: right;\">\n",
       "      <th></th>\n",
       "      <th>Questions</th>\n",
       "      <th>Answers</th>\n",
       "    </tr>\n",
       "  </thead>\n",
       "  <tbody>\n",
       "    <tr>\n",
       "      <th>0</th>\n",
       "      <td>i'm fine. how about yourself?</td>\n",
       "      <td>i'm pretty good. thanks for asking.</td>\n",
       "    </tr>\n",
       "    <tr>\n",
       "      <th>1</th>\n",
       "      <td>i'm pretty good. thanks for asking.</td>\n",
       "      <td>no problem. so how have you been?</td>\n",
       "    </tr>\n",
       "    <tr>\n",
       "      <th>2</th>\n",
       "      <td>no problem. so how have you been?</td>\n",
       "      <td>i've been great. what about you?</td>\n",
       "    </tr>\n",
       "    <tr>\n",
       "      <th>3</th>\n",
       "      <td>i've been great. what about you?</td>\n",
       "      <td>i've been good. i'm in school right now.</td>\n",
       "    </tr>\n",
       "    <tr>\n",
       "      <th>4</th>\n",
       "      <td>i've been good. i'm in school right now.</td>\n",
       "      <td>what school do you go to?</td>\n",
       "    </tr>\n",
       "  </tbody>\n",
       "</table>\n",
       "</div>"
      ],
      "text/plain": [
       "                                  Questions  \\\n",
       "0             i'm fine. how about yourself?   \n",
       "1       i'm pretty good. thanks for asking.   \n",
       "2         no problem. so how have you been?   \n",
       "3          i've been great. what about you?   \n",
       "4  i've been good. i'm in school right now.   \n",
       "\n",
       "                                    Answers  \n",
       "0       i'm pretty good. thanks for asking.  \n",
       "1         no problem. so how have you been?  \n",
       "2          i've been great. what about you?  \n",
       "3  i've been good. i'm in school right now.  \n",
       "4                 what school do you go to?  "
      ]
     },
     "execution_count": 19,
     "metadata": {},
     "output_type": "execute_result"
    }
   ],
   "source": [
    "df.head()"
   ]
  },
  {
   "cell_type": "markdown",
   "metadata": {},
   "source": [
    "## Training model"
   ]
  },
  {
   "cell_type": "code",
   "execution_count": 20,
   "metadata": {},
   "outputs": [],
   "source": [
    "model = Pipeline([\n",
    "    ('bow',CountVectorizer(analyzer=cleaner)),\n",
    "    ('tfidf',TfidfTransformer()),\n",
    "    ('classifier',DecisionTreeClassifier())\n",
    "])"
   ]
  },
  {
   "cell_type": "code",
   "execution_count": 22,
   "metadata": {},
   "outputs": [
    {
     "data": {
      "text/html": [
       "<style>#sk-container-id-1 {color: black;background-color: white;}#sk-container-id-1 pre{padding: 0;}#sk-container-id-1 div.sk-toggleable {background-color: white;}#sk-container-id-1 label.sk-toggleable__label {cursor: pointer;display: block;width: 100%;margin-bottom: 0;padding: 0.3em;box-sizing: border-box;text-align: center;}#sk-container-id-1 label.sk-toggleable__label-arrow:before {content: \"▸\";float: left;margin-right: 0.25em;color: #696969;}#sk-container-id-1 label.sk-toggleable__label-arrow:hover:before {color: black;}#sk-container-id-1 div.sk-estimator:hover label.sk-toggleable__label-arrow:before {color: black;}#sk-container-id-1 div.sk-toggleable__content {max-height: 0;max-width: 0;overflow: hidden;text-align: left;background-color: #f0f8ff;}#sk-container-id-1 div.sk-toggleable__content pre {margin: 0.2em;color: black;border-radius: 0.25em;background-color: #f0f8ff;}#sk-container-id-1 input.sk-toggleable__control:checked~div.sk-toggleable__content {max-height: 200px;max-width: 100%;overflow: auto;}#sk-container-id-1 input.sk-toggleable__control:checked~label.sk-toggleable__label-arrow:before {content: \"▾\";}#sk-container-id-1 div.sk-estimator input.sk-toggleable__control:checked~label.sk-toggleable__label {background-color: #d4ebff;}#sk-container-id-1 div.sk-label input.sk-toggleable__control:checked~label.sk-toggleable__label {background-color: #d4ebff;}#sk-container-id-1 input.sk-hidden--visually {border: 0;clip: rect(1px 1px 1px 1px);clip: rect(1px, 1px, 1px, 1px);height: 1px;margin: -1px;overflow: hidden;padding: 0;position: absolute;width: 1px;}#sk-container-id-1 div.sk-estimator {font-family: monospace;background-color: #f0f8ff;border: 1px dotted black;border-radius: 0.25em;box-sizing: border-box;margin-bottom: 0.5em;}#sk-container-id-1 div.sk-estimator:hover {background-color: #d4ebff;}#sk-container-id-1 div.sk-parallel-item::after {content: \"\";width: 100%;border-bottom: 1px solid gray;flex-grow: 1;}#sk-container-id-1 div.sk-label:hover label.sk-toggleable__label {background-color: #d4ebff;}#sk-container-id-1 div.sk-serial::before {content: \"\";position: absolute;border-left: 1px solid gray;box-sizing: border-box;top: 0;bottom: 0;left: 50%;z-index: 0;}#sk-container-id-1 div.sk-serial {display: flex;flex-direction: column;align-items: center;background-color: white;padding-right: 0.2em;padding-left: 0.2em;position: relative;}#sk-container-id-1 div.sk-item {position: relative;z-index: 1;}#sk-container-id-1 div.sk-parallel {display: flex;align-items: stretch;justify-content: center;background-color: white;position: relative;}#sk-container-id-1 div.sk-item::before, #sk-container-id-1 div.sk-parallel-item::before {content: \"\";position: absolute;border-left: 1px solid gray;box-sizing: border-box;top: 0;bottom: 0;left: 50%;z-index: -1;}#sk-container-id-1 div.sk-parallel-item {display: flex;flex-direction: column;z-index: 1;position: relative;background-color: white;}#sk-container-id-1 div.sk-parallel-item:first-child::after {align-self: flex-end;width: 50%;}#sk-container-id-1 div.sk-parallel-item:last-child::after {align-self: flex-start;width: 50%;}#sk-container-id-1 div.sk-parallel-item:only-child::after {width: 0;}#sk-container-id-1 div.sk-dashed-wrapped {border: 1px dashed gray;margin: 0 0.4em 0.5em 0.4em;box-sizing: border-box;padding-bottom: 0.4em;background-color: white;}#sk-container-id-1 div.sk-label label {font-family: monospace;font-weight: bold;display: inline-block;line-height: 1.2em;}#sk-container-id-1 div.sk-label-container {text-align: center;}#sk-container-id-1 div.sk-container {/* jupyter's `normalize.less` sets `[hidden] { display: none; }` but bootstrap.min.css set `[hidden] { display: none !important; }` so we also need the `!important` here to be able to override the default hidden behavior on the sphinx rendered scikit-learn.org. See: https://github.com/scikit-learn/scikit-learn/issues/21755 */display: inline-block !important;position: relative;}#sk-container-id-1 div.sk-text-repr-fallback {display: none;}</style><div id=\"sk-container-id-1\" class=\"sk-top-container\"><div class=\"sk-text-repr-fallback\"><pre>Pipeline(steps=[(&#x27;bow&#x27;,\n",
       "                 CountVectorizer(analyzer=&lt;function cleaner at 0x7f9dde5317e0&gt;)),\n",
       "                (&#x27;tfidf&#x27;, TfidfTransformer()),\n",
       "                (&#x27;classifier&#x27;, DecisionTreeClassifier())])</pre><b>In a Jupyter environment, please rerun this cell to show the HTML representation or trust the notebook. <br />On GitHub, the HTML representation is unable to render, please try loading this page with nbviewer.org.</b></div><div class=\"sk-container\" hidden><div class=\"sk-item sk-dashed-wrapped\"><div class=\"sk-label-container\"><div class=\"sk-label sk-toggleable\"><input class=\"sk-toggleable__control sk-hidden--visually\" id=\"sk-estimator-id-1\" type=\"checkbox\" ><label for=\"sk-estimator-id-1\" class=\"sk-toggleable__label sk-toggleable__label-arrow\">Pipeline</label><div class=\"sk-toggleable__content\"><pre>Pipeline(steps=[(&#x27;bow&#x27;,\n",
       "                 CountVectorizer(analyzer=&lt;function cleaner at 0x7f9dde5317e0&gt;)),\n",
       "                (&#x27;tfidf&#x27;, TfidfTransformer()),\n",
       "                (&#x27;classifier&#x27;, DecisionTreeClassifier())])</pre></div></div></div><div class=\"sk-serial\"><div class=\"sk-item\"><div class=\"sk-estimator sk-toggleable\"><input class=\"sk-toggleable__control sk-hidden--visually\" id=\"sk-estimator-id-2\" type=\"checkbox\" ><label for=\"sk-estimator-id-2\" class=\"sk-toggleable__label sk-toggleable__label-arrow\">CountVectorizer</label><div class=\"sk-toggleable__content\"><pre>CountVectorizer(analyzer=&lt;function cleaner at 0x7f9dde5317e0&gt;)</pre></div></div></div><div class=\"sk-item\"><div class=\"sk-estimator sk-toggleable\"><input class=\"sk-toggleable__control sk-hidden--visually\" id=\"sk-estimator-id-3\" type=\"checkbox\" ><label for=\"sk-estimator-id-3\" class=\"sk-toggleable__label sk-toggleable__label-arrow\">TfidfTransformer</label><div class=\"sk-toggleable__content\"><pre>TfidfTransformer()</pre></div></div></div><div class=\"sk-item\"><div class=\"sk-estimator sk-toggleable\"><input class=\"sk-toggleable__control sk-hidden--visually\" id=\"sk-estimator-id-4\" type=\"checkbox\" ><label for=\"sk-estimator-id-4\" class=\"sk-toggleable__label sk-toggleable__label-arrow\">DecisionTreeClassifier</label><div class=\"sk-toggleable__content\"><pre>DecisionTreeClassifier()</pre></div></div></div></div></div></div></div>"
      ],
      "text/plain": [
       "Pipeline(steps=[('bow',\n",
       "                 CountVectorizer(analyzer=<function cleaner at 0x7f9dde5317e0>)),\n",
       "                ('tfidf', TfidfTransformer()),\n",
       "                ('classifier', DecisionTreeClassifier())])"
      ]
     },
     "execution_count": 22,
     "metadata": {},
     "output_type": "execute_result"
    }
   ],
   "source": [
    "model.fit(df['Questions'],df['Answers'])"
   ]
  },
  {
   "cell_type": "markdown",
   "metadata": {},
   "source": [
    "## Testing model"
   ]
  },
  {
   "cell_type": "code",
   "execution_count": 23,
   "metadata": {},
   "outputs": [
    {
     "data": {
      "text/plain": [
       "\"i'm fine. how about yourself?\""
      ]
     },
     "execution_count": 23,
     "metadata": {},
     "output_type": "execute_result"
    }
   ],
   "source": [
    "model.predict(['how are you'])[0]"
   ]
  },
  {
   "cell_type": "markdown",
   "metadata": {},
   "source": [
    "## Integrating it into a web app using Flask"
   ]
  },
  {
   "cell_type": "markdown",
   "metadata": {},
   "source": [
    "## Environment and Implementing basic user interactions\n",
    "\n",
    "https://github.com/kimpoobi/Create_chatbot_in_python/blob/main/app/templates/index.html"
   ]
  },
  {
   "cell_type": "markdown",
   "metadata": {},
   "source": [
    "![alt text](image.png \"Title\")"
   ]
  },
  {
   "cell_type": "markdown",
   "metadata": {},
   "source": [
    "Explanation of about HTML and Javascript for user interface:\n",
    "\n",
    "**HTML Part:**\n",
    "\n",
    "1. The HTML code defines a basic webpage structure for the chatbot interface.\n",
    "\n",
    "2. It includes external script and style libraries, such as jQuery for JavaScript functionality, Socket.IO for real-time communication, and Bootstrap for styling.\n",
    "\n",
    "3. It also includes Font Awesome icons and a custom CSS file (style.css) for styling.\n",
    "\n",
    "4. Within the `body` element, there's a chat interface with a message display area and an input field for sending messages.\n",
    "\n",
    "**JavaScript Part:**\n",
    "\n",
    "1. JavaScript code is used to make the chatbot interface interactive and handle real-time communication with the server.\n",
    "\n",
    "2. It connects to the Socket.IO server running at \"http://localhost:5000\" to establish a real-time connection with the server.\n",
    "\n",
    "3. It listens for the 'connect' event and sends a \"User Connected!\" message to the server when the user initially connects.\n",
    "\n",
    "4. It listens for incoming messages from the server and displays them in the chat interface. Messages are displayed in different styles depending on whether they are from the user or the chatbot.\n",
    "\n",
    "5. The 'Send' button and the Enter key press are both set to trigger a function that sends the user's input message to the server when clicked or when the Enter key is pressed.\n",
    "\n",
    "6. The function also appends the user's message to the chat interface and clears the input field after sending.\n",
    "\n",
    "7. Overall, the JavaScript code provides real-time chat functionality and a user-friendly interface for interacting with the chatbot.\n",
    "\n",
    "This code combines HTML and JavaScript to create a functional and visually appealing chatbot interface that communicates with the Python server running your chatbot logic. Users can send messages, and the chatbot responds in real-time, making it an interactive and engaging experience."
   ]
  },
  {
   "cell_type": "markdown",
   "metadata": {},
   "source": [
    "## integration and flask for web app development"
   ]
  },
  {
   "cell_type": "markdown",
   "metadata": {},
   "source": [
    "app.py https://github.com/kimpoobi/Create_chatbot_in_python/blob/main/app/app.py"
   ]
  },
  {
   "cell_type": "code",
   "execution_count": null,
   "metadata": {},
   "outputs": [],
   "source": [
    "from flask import Flask, render_template\n",
    "from flask_socketio import SocketIO, send\n",
    "import pickle\n",
    "import sklearn\n",
    "from sklearn.feature_extraction.text import CountVectorizer\n",
    "from sklearn.tree import DecisionTreeClassifier\n",
    "from sklearn.feature_extraction.text import TfidfTransformer,TfidfVectorizer\n",
    "from sklearn.pipeline import Pipeline\n",
    "import string\n",
    "\n",
    "\n",
    "app = Flask(__name__)\n",
    "app.config['SECRET'] = 'somethingelse'\n",
    "socketio = SocketIO(app, cors_allowed_origins=\"*\")\n",
    "\n",
    "def cleaner(x):\n",
    "    return [a for a in (''.join([a for a in x if a not in string.punctuation])).lower().split()]\n",
    "def bot_replay(message):\n",
    "    pred_msg = \"\"\n",
    "    with open('static/models/dclf.pkl', 'rb') as f:\n",
    "        clf2 = pickle.load(f)\n",
    "        pred_msg = clf2.predict([message])[0]\n",
    "    \n",
    "    return pred_msg\n",
    "\n",
    "@socketio.on('message')\n",
    "def handle_message(message):\n",
    "    print(\"Received message: \" + message)\n",
    "    if message != \"User Connected!\":\n",
    "        send(message, broadcast=True)\n",
    "        send(\"[Bot]: \" + bot_replay(message), broadcast=True)\n",
    "\n",
    "\n",
    "@app.route('/')\n",
    "def index():\n",
    "    return render_template(\"index.html\")\n",
    "\n",
    "\n",
    "if __name__ == \"__main__\":\n",
    "    socketio.run(app, debug=True, host=\"localhost\")"
   ]
  },
  {
   "cell_type": "markdown",
   "metadata": {},
   "source": [
    "Explanation of above code:\n",
    "\n",
    "1. **Importing Libraries:**\n",
    "   - The code starts by importing the necessary libraries. Flask is used for creating the web application, and Flask-SocketIO is used for handling real-time communication between the server and the client. Additionally, the code imports libraries related to machine learning, including scikit-learn (sklearn), which is used for text classification, and pickle for model serialization.\n",
    "\n",
    "2. **Flask Application Setup:**\n",
    "   - The Flask application is created and configured. A Flask `app` instance is created, and the `app.config` is set with a 'SECRET' key.\n",
    "\n",
    "3. **SocketIO Setup:**\n",
    "   - The Flask-SocketIO extension is used to set up a WebSocket for real-time communication. A `socketio` instance is created, and it is associated with the Flask app.\n",
    "\n",
    "4. **Text Cleaning Function:**\n",
    "   - The `cleaner` function is defined to preprocess text data. It removes punctuation, converts text to lowercase, and splits the text into words. This function is used to prepare user input for the machine learning model.\n",
    "\n",
    "5. **Bot Response Function:**\n",
    "   - The `bot_replay` function is responsible for generating responses from the chatbot. It uses a pre-trained machine learning model to classify user messages and return a corresponding response. The model is loaded from a file called 'dclf.pkl'.\n",
    "\n",
    "6. **SocketIO Event Handler:**\n",
    "   - The `@socketio.on('message')` decorator defines an event handler for messages received from the client. When a message is received, it is printed to the console. If the message is not \"User Connected!\", it is broadcasted to all connected clients, and the chatbot response (generated by the `bot_replay` function) is also sent to all clients with the \"[Bot]\" prefix.\n",
    "\n",
    "7. **Flask Route:**\n",
    "   - A Flask route is defined for the root URL '/'. When a user accesses the root URL, the 'index.html' template is rendered. This template presumably contains the chat interface.\n",
    "\n",
    "8. **Main Application Execution:**\n",
    "   - The application is configured to run only if the script is the main entry point. It uses the `socketio.run()` method to start the Flask-SocketIO server with debugging enabled on 'localhost'.\n",
    "\n",
    "**Project Components:**\n",
    "- The project consists of a Flask web application that serves an HTML interface (index.html) for users to interact with the chatbot.\n",
    "- The chatbot uses a pre-trained decision tree classifier (loaded from 'dclf.pkl') to classify user messages and generate responses.\n",
    "- Real-time communication is established using Flask-SocketIO, allowing for seamless user-bot interactions.\n",
    "\n",
    "**To Run the Project:**\n",
    "- Ensure you have the required libraries installed (Flask, Flask-SocketIO, scikit-learn).\n",
    "- Create the 'dclf.pkl' file with a trained decision tree classifier.\n",
    "- Run the Python script, and access the chatbot via a web browser."
   ]
  },
  {
   "cell_type": "code",
   "execution_count": null,
   "metadata": {},
   "outputs": [],
   "source": []
  }
 ],
 "metadata": {
  "kernelspec": {
   "display_name": "Python 3 (ipykernel)",
   "language": "python",
   "name": "python3"
  },
  "language_info": {
   "codemirror_mode": {
    "name": "ipython",
    "version": 3
   },
   "file_extension": ".py",
   "mimetype": "text/x-python",
   "name": "python",
   "nbconvert_exporter": "python",
   "pygments_lexer": "ipython3",
   "version": "3.10.9"
  },
  "papermill": {
   "duration": 18.829368,
   "end_time": "2020-09-04T08:35:34.156977",
   "environment_variables": {},
   "exception": null,
   "input_path": "__notebook__.ipynb",
   "output_path": "__notebook__.ipynb",
   "parameters": {},
   "start_time": "2020-09-04T08:35:15.327609",
   "version": "2.1.0"
  }
 },
 "nbformat": 4,
 "nbformat_minor": 4
}
